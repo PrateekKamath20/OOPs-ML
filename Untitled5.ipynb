{
  "nbformat": 4,
  "nbformat_minor": 0,
  "metadata": {
    "colab": {
      "provenance": [],
      "authorship_tag": "ABX9TyOTHr+PZw+eaMEHfxJsZfBx",
      "include_colab_link": true
    },
    "kernelspec": {
      "name": "python3",
      "display_name": "Python 3"
    },
    "language_info": {
      "name": "python"
    }
  },
  "cells": [
    {
      "cell_type": "markdown",
      "metadata": {
        "id": "view-in-github",
        "colab_type": "text"
      },
      "source": [
        "<a href=\"https://colab.research.google.com/github/PrateekKamath20/OOPs-ML/blob/main/Untitled5.ipynb\" target=\"_parent\"><img src=\"https://colab.research.google.com/assets/colab-badge.svg\" alt=\"Open In Colab\"/></a>"
      ]
    },
    {
      "cell_type": "code",
      "execution_count": null,
      "metadata": {
        "id": "b0S8L39DL4gz"
      },
      "outputs": [],
      "source": [
        "from PIL import Image\n",
        "import os\n",
        "\n",
        "input_folder = 'D:/Coconut Tree/CTD Data/Leaf Rot'\n",
        "output_folder = 'Resized leaf Rot'\n",
        "os.makedirs(output_folder, exist_ok=True)\n",
        "\n",
        "for file in os.listdir(input_folder):\n",
        "    if file.endswith('.jpg') or file.endswith('.png'):\n",
        "        img = Image.open(os.path.join(input_folder, file))\n",
        "        img = img.resize((640, 640))  # Adjust size as needed\n",
        "        img.save(os.path.join(output_folder, file))"
      ]
    }
  ]
}